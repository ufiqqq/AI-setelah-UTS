{
 "cells": [
  {
   "cell_type": "code",
   "execution_count": 23,
   "metadata": {},
   "outputs": [
    {
     "data": {
      "text/html": [
       "<div>\n",
       "<style scoped>\n",
       "    .dataframe tbody tr th:only-of-type {\n",
       "        vertical-align: middle;\n",
       "    }\n",
       "\n",
       "    .dataframe tbody tr th {\n",
       "        vertical-align: top;\n",
       "    }\n",
       "\n",
       "    .dataframe thead th {\n",
       "        text-align: right;\n",
       "    }\n",
       "</style>\n",
       "<table border=\"1\" class=\"dataframe\">\n",
       "  <thead>\n",
       "    <tr style=\"text-align: right;\">\n",
       "      <th></th>\n",
       "      <th>GPA</th>\n",
       "      <th>Skor_Tes</th>\n",
       "      <th>Rekomendasi</th>\n",
       "      <th>Diterima</th>\n",
       "    </tr>\n",
       "  </thead>\n",
       "  <tbody>\n",
       "    <tr>\n",
       "      <th>0</th>\n",
       "      <td>3.5</td>\n",
       "      <td>85</td>\n",
       "      <td>1</td>\n",
       "      <td>1</td>\n",
       "    </tr>\n",
       "    <tr>\n",
       "      <th>1</th>\n",
       "      <td>3.0</td>\n",
       "      <td>80</td>\n",
       "      <td>0</td>\n",
       "      <td>0</td>\n",
       "    </tr>\n",
       "    <tr>\n",
       "      <th>2</th>\n",
       "      <td>3.8</td>\n",
       "      <td>90</td>\n",
       "      <td>1</td>\n",
       "      <td>1</td>\n",
       "    </tr>\n",
       "    <tr>\n",
       "      <th>3</th>\n",
       "      <td>2.8</td>\n",
       "      <td>75</td>\n",
       "      <td>0</td>\n",
       "      <td>0</td>\n",
       "    </tr>\n",
       "    <tr>\n",
       "      <th>4</th>\n",
       "      <td>3.7</td>\n",
       "      <td>88</td>\n",
       "      <td>1</td>\n",
       "      <td>1</td>\n",
       "    </tr>\n",
       "    <tr>\n",
       "      <th>5</th>\n",
       "      <td>3.2</td>\n",
       "      <td>78</td>\n",
       "      <td>0</td>\n",
       "      <td>0</td>\n",
       "    </tr>\n",
       "  </tbody>\n",
       "</table>\n",
       "</div>"
      ],
      "text/plain": [
       "   GPA  Skor_Tes  Rekomendasi  Diterima\n",
       "0  3.5        85            1         1\n",
       "1  3.0        80            0         0\n",
       "2  3.8        90            1         1\n",
       "3  2.8        75            0         0\n",
       "4  3.7        88            1         1\n",
       "5  3.2        78            0         0"
      ]
     },
     "execution_count": 23,
     "metadata": {},
     "output_type": "execute_result"
    }
   ],
   "source": [
    "import numpy as np\n",
    "import pandas as pd\n",
    "from sklearn.model_selection import train_test_split\n",
    "from sklearn.naive_bayes import GaussianNB\n",
    "from sklearn.metrics import accuracy_score\n",
    "\n",
    "# Membuat dataset\n",
    "data = {\n",
    "    'GPA': [3.5, 3.0, 3.8, 2.8, 3.7, 3.2],\n",
    "    'Skor_Tes': [85, 80, 90, 75, 88, 78],\n",
    "    'Rekomendasi': ['Ya', 'Tidak', 'Ya', 'Tidak', 'Ya', 'Tidak'],\n",
    "    'Diterima': ['Ya', 'Tidak', 'Ya', 'Tidak', 'Ya', 'Tidak']\n",
    "}\n",
    "\n",
    "df = pd.DataFrame(data)\n",
    "\n",
    "# Encode data kategorikal\n",
    "df['Rekomendasi'] = df['Rekomendasi'].map({'Ya': 1, 'Tidak': 0})\n",
    "df['Diterima'] = df['Diterima'].map({'Ya': 1, 'Tidak': 0})\n",
    "\n",
    "df\n"
   ]
  },
  {
   "cell_type": "code",
   "execution_count": 24,
   "metadata": {},
   "outputs": [],
   "source": [
    "class NaiveBayesClassifier:\n",
    "    def __init__(self):\n",
    "        self.model = GaussianNB()\n",
    "    \n",
    "    def train(self, X_train, y_train):\n",
    "        self.model.fit(X_train, y_train)\n",
    "    \n",
    "    def predict(self, X_test):\n",
    "        return self.model.predict(X_test)\n",
    "    \n",
    "    def accuracy(self, y_test, y_pred):\n",
    "        return accuracy_score(y_test, y_pred)\n"
   ]
  },
  {
   "cell_type": "code",
   "execution_count": 25,
   "metadata": {},
   "outputs": [
    {
     "name": "stdout",
     "output_type": "stream",
     "text": [
      "Akurasi: 100.00%\n",
      "   Aktual  Prediksi\n",
      "0       1         1\n",
      "1       0         0\n"
     ]
    }
   ],
   "source": [
    "# Membagi data menjadi fitur dan target\n",
    "X = df[['GPA', 'Skor_Tes', 'Rekomendasi']]\n",
    "y = df['Diterima']\n",
    "\n",
    "# Membagi data menjadi set pelatihan dan set pengujian\n",
    "X_train, X_test, y_train, y_test = train_test_split(X, y, test_size=0.33, random_state=42)\n",
    "\n",
    "# Membuat instance dari NaiveBayesClassifier\n",
    "nb_classifier = NaiveBayesClassifier()\n",
    "\n",
    "# Melatih model\n",
    "nb_classifier.train(X_train, y_train)\n",
    "\n",
    "# Membuat prediksi\n",
    "y_pred = nb_classifier.predict(X_test)\n",
    "\n",
    "# Menghitung akurasi\n",
    "accuracy = nb_classifier.accuracy(y_test, y_pred)\n",
    "print(f'Akurasi: {accuracy * 100:.2f}%')\n",
    "\n",
    "# Menampilkan prediksi\n",
    "predictions = pd.DataFrame({'Aktual': y_test, 'Prediksi': y_pred})\n",
    "print(predictions)\n"
   ]
  },
  {
   "cell_type": "code",
   "execution_count": 26,
   "metadata": {},
   "outputs": [
    {
     "name": "stdout",
     "output_type": "stream",
     "text": [
      "Prediksi untuk data baru (GPA=3.6, Skor Tes=82, Rekomendasi=Ya): Diterima\n"
     ]
    }
   ],
   "source": [
    "# Membuat prediksi untuk data baru\n",
    "data_baru = pd.DataFrame({'GPA': [3.6], 'Skor_Tes': [82], 'Rekomendasi': [1]})\n",
    "prediksi_baru = nb_classifier.predict(data_baru)\n",
    "print(f'Prediksi untuk data baru (GPA=3.6, Skor Tes=82, Rekomendasi=Ya): {\"Diterima\" if prediksi_baru[0] == 1 else \"Tidak Diterima\"}')"
   ]
  }
 ],
 "metadata": {
  "kernelspec": {
   "display_name": "Python 3",
   "language": "python",
   "name": "python3"
  },
  "language_info": {
   "codemirror_mode": {
    "name": "ipython",
    "version": 3
   },
   "file_extension": ".py",
   "mimetype": "text/x-python",
   "name": "python",
   "nbconvert_exporter": "python",
   "pygments_lexer": "ipython3",
   "version": "3.10.6"
  }
 },
 "nbformat": 4,
 "nbformat_minor": 2
}
